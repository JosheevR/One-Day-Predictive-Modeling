{
 "cells": [
  {
   "cell_type": "code",
   "execution_count": null,
   "metadata": {},
   "outputs": [],
   "source": [
    "import yfinance as yf\n",
    "from datetime import datetime, timedelta\n",
    "from tqdm import tqdm\n",
    "\n",
    "import numpy as np\n",
    "import matplotlib.pyplot as plt\n",
    "import pandas as pd\n",
    "\n",
    "import tensorflow as tf\n",
    "from tensorflow import keras\n",
    "from keras import Sequential\n",
    "from keras.layers import SimpleRNN, LSTM, Dense\n",
    "\n",
    "# from sklearn.tree import DecisionTreeRegressor\n",
    "# from xgboost import XGBRegressor\n",
    "\n",
    "# from statsmodels.graphics.tsaplots import plot_acf, plot_pacf\n",
    "# from statsmodels.tsa.arima_model import ARIMA"
   ]
  },
  {
   "cell_type": "code",
   "execution_count": null,
   "metadata": {},
   "outputs": [],
   "source": [
    "tickerSymbol = 'SI=F'\n",
    "series = yf.Ticker(tickerSymbol)"
   ]
  },
  {
   "cell_type": "code",
   "execution_count": null,
   "metadata": {},
   "outputs": [],
   "source": [
    "prices_full = series.history(start='2024-01-01', end='2024-07-31')\n",
    "print(prices_full.iloc[-1])"
   ]
  },
  {
   "cell_type": "code",
   "execution_count": null,
   "metadata": {},
   "outputs": [],
   "source": [
    "prices = series.history(start='2024-01-01', end='2024-07-31').Open\n",
    "returns = prices.pct_change().dropna()"
   ]
  },
  {
   "cell_type": "code",
   "execution_count": null,
   "metadata": {},
   "outputs": [],
   "source": [
    "print(prices)"
   ]
  },
  {
   "cell_type": "code",
   "execution_count": null,
   "metadata": {},
   "outputs": [],
   "source": [
    "plt.figure(figsize=(10,4))\n",
    "plt.plot(prices)\n",
    "plt.show()"
   ]
  },
  {
   "cell_type": "code",
   "execution_count": null,
   "metadata": {},
   "outputs": [],
   "source": [
    "baseline_profit = prices.iloc[-1] - prices.iloc[0]\n",
    "baseline_profit = np.round(baseline_profit,2)\n",
    "print(\"Baseline Profit:  $\" + str(baseline_profit) + \" per contract\")"
   ]
  },
  {
   "cell_type": "code",
   "execution_count": null,
   "metadata": {},
   "outputs": [],
   "source": [
    "print(str(100) + \"/\" + str(prices.iloc[0]) + \" = \" + \"x/$\" + str(baseline_profit))"
   ]
  },
  {
   "cell_type": "code",
   "execution_count": null,
   "metadata": {},
   "outputs": [],
   "source": [
    "print(\"Profit to beat:  $17.38\")"
   ]
  },
  {
   "cell_type": "code",
   "execution_count": null,
   "metadata": {},
   "outputs": [],
   "source": [
    "window_size = 5\n",
    "\n",
    "data_train = prices[:'2024-06-30'].to_numpy()\n",
    "data_test = prices['2024-06-24':].to_numpy()\n",
    "\n",
    "\n",
    "X_train = []\n",
    "y_train = []\n",
    "for i in range(len(data_train) - window_size):\n",
    "    X_train.append(data_train[i: i + window_size])\n",
    "    y_train.append(data_train[i+window_size])\n",
    "\n",
    "X_test = []\n",
    "y_test = []\n",
    "for i in range(len(data_test) - window_size):\n",
    "    X_test.append(data_test[i: i + window_size])\n",
    "    y_test.append(data_test[i+window_size])\n",
    "\n",
    "X_train = np.array(X_train)\n",
    "y_train = np.array(y_train)\n",
    "\n",
    "X_test = np.array(X_test)\n",
    "y_test = np.array(y_test)"
   ]
  },
  {
   "cell_type": "code",
   "execution_count": null,
   "metadata": {},
   "outputs": [],
   "source": [
    "baseline_profit_test = data_test[-1] - data_test[0]\n",
    "baseline_profit_test = np.round(baseline_profit_test,2)\n",
    "print(\"Baseline Profit (Test):  $\" + str(baseline_profit_test) + \" per contract\")"
   ]
  },
  {
   "cell_type": "code",
   "execution_count": null,
   "metadata": {},
   "outputs": [],
   "source": [
    "X_train = X_train.reshape((X_train.shape[0], X_train.shape[1], 1))\n",
    "X_test = X_test.reshape((X_test.shape[0], X_test.shape[1], 1))"
   ]
  },
  {
   "cell_type": "code",
   "execution_count": null,
   "metadata": {},
   "outputs": [],
   "source": [
    "print('X_train shape = ', X_train.shape)\n",
    "print('y_train shape = ', y_train.shape,'\\n')\n",
    "\n",
    "print('X_test shape = ', X_test.shape)\n",
    "print('y_test shape = ', y_test.shape)"
   ]
  },
  {
   "cell_type": "code",
   "execution_count": null,
   "metadata": {},
   "outputs": [],
   "source": [
    "model = Sequential()\n",
    "model.add(SimpleRNN(128, activation='relu', return_sequences=True, input_shape=(window_size, 1)))\n",
    "model.add(SimpleRNN(256, activation='relu', return_sequences=True, input_shape=(window_size, 1)))\n",
    "model.add(SimpleRNN(128, activation='relu', return_sequences=True, input_shape=(window_size, 1)))\n",
    "model.add(SimpleRNN(64, activation='relu'))\n",
    "model.add(Dense(1))"
   ]
  },
  {
   "cell_type": "code",
   "execution_count": null,
   "metadata": {},
   "outputs": [],
   "source": [
    "model.compile(loss='mse', optimizer='adam')\n",
    "model.fit(np.array(X_train), np.array(y_train), epochs=5000, verbose=1)"
   ]
  },
  {
   "cell_type": "code",
   "execution_count": null,
   "metadata": {},
   "outputs": [],
   "source": [
    "model.summary()"
   ]
  },
  {
   "cell_type": "code",
   "execution_count": null,
   "metadata": {},
   "outputs": [],
   "source": [
    "results = model.predict(np.array(X_test))"
   ]
  },
  {
   "cell_type": "code",
   "execution_count": null,
   "metadata": {},
   "outputs": [],
   "source": [
    "pred_series = pd.Series(results.flatten(), index=prices['2024-06-24':].index[window_size:window_size + len(results)])"
   ]
  },
  {
   "cell_type": "code",
   "execution_count": null,
   "metadata": {},
   "outputs": [],
   "source": [
    "prices_2024 = prices['2024-06-01':]\n",
    "plt.figure(figsize=(10, 5))\n",
    "plt.plot(prices_2024, color='blue', label='Actual Prices')\n",
    "plt.plot(pred_series, color='red', label='Predicted Prices')\n",
    "plt.legend()\n",
    "plt.xlabel('Year-Month')\n",
    "plt.ylabel('Price')\n",
    "plt.title('Gold Price vs Time')\n",
    "plt.grid(True)\n",
    "plt.show()"
   ]
  },
  {
   "cell_type": "code",
   "execution_count": null,
   "metadata": {},
   "outputs": [],
   "source": [
    "trading_period = data_test\n",
    "predictions = results\n",
    "\n",
    "prices_test = prices['2024-06-24':]\n",
    "\n",
    "prices_trading = prices['2024-06-28':]\n",
    "print(prices_trading)"
   ]
  },
  {
   "cell_type": "code",
   "execution_count": null,
   "metadata": {},
   "outputs": [],
   "source": [
    "print(pred_series)"
   ]
  },
  {
   "cell_type": "code",
   "execution_count": null,
   "metadata": {},
   "outputs": [],
   "source": [
    "def BuySellModel(starting_cash, prices=prices_trading, predictions=pred_series):\n",
    "    baseline_revenue = prices[-1]*int(starting_cash / prices[0]) - prices[0]*int(starting_cash / prices[0])\n",
    "    cash = starting_cash\n",
    "    contracts = None\n",
    "    holding = False\n",
    "    buy_price = None\n",
    "    sell_price = None\n",
    "\n",
    "    for i in range(len(predictions)):\n",
    "        if not holding:\n",
    "            # if prediction is >> todays price -> Buy as many contracts\n",
    "            if predictions[i] > prices[i]:\n",
    "                contracts = int(cash / prices[i])\n",
    "                cash -= prices[i]*contracts\n",
    "                holding = True\n",
    "        else:\n",
    "            # if prediction is << todays price -> Sell as many contracts\n",
    "            # force sell at final day\n",
    "            if predictions[i] < prices[i] or i == len(predictions)-1:\n",
    "                cash += prices[i]*contracts\n",
    "                contracts = 0\n",
    "                holding = False\n",
    "    \n",
    "    revenue = cash - starting_cash\n",
    "    revenue_percent = (revenue * 100)/starting_cash\n",
    "    return cash, revenue, revenue_percent, baseline_revenue"
   ]
  },
  {
   "cell_type": "code",
   "execution_count": null,
   "metadata": {},
   "outputs": [],
   "source": [
    "cash, revenue, revenue_percent, baseline_revenue = BuySellModel(starting_cash=10000)\n",
    "print(\"Current Cash:\", cash)\n",
    "print(\"Revenue:\", revenue)\n",
    "print(\"Baseline Revenue:\", baseline_revenue)\n",
    "if revenue_percent > 0:\n",
    "    print(str(revenue_percent)+\"% Profit\\n\")\n",
    "else:\n",
    "    print(str(revenue_percent)+\"% Loss\\n\")\n"
   ]
  },
  {
   "cell_type": "code",
   "execution_count": null,
   "metadata": {},
   "outputs": [],
   "source": []
  },
  {
   "cell_type": "code",
   "execution_count": null,
   "metadata": {},
   "outputs": [],
   "source": [
    "def BuySellModelPredict(starting_cash):\n",
    "    prices = trading_period\n",
    "    revenue = np.zeros(len(predictions))\n",
    "    cash = starting_cash\n",
    "    cash_used = 0\n",
    "    shares = 0\n",
    "    holding = False\n",
    "\n",
    "    for i in range (1, len(predictions)):\n",
    "        if predictions[i-1] > 0:\n",
    "            shares = starting_cash / prices[i-1]\n",
    "            cash = shares * prices[i]\n",
    "            cash_used += starting_cash\n",
    "            revenue[i] = cash - starting_cash\n",
    "            holding = True\n",
    "\n",
    "        print(f\"Day {i}: \\n Daily Open = {prices[i-1]},  \\n Daily Close = {prices[i]},  \\n Cash = {cash}, \\n Shares = {shares}, \\n Prediction = {predictions[i-1]}, \\n Daily Revenue = {revenue[i]}, \\n\")\n",
    "\n",
    "    if holding:\n",
    "        cash = shares * prices[-1]\n",
    "        revenue[-1] = cash - starting_cash\n",
    "        print(f\"Day {i+1}: Forced Sell: Close = {prices[-1]}, Cash = {cash}, Revenue = {revenue[-1]}\")\n",
    "\n",
    "    #   plt.figure(figsize=(10, 4))\n",
    "    #   plt.plot(revenue)\n",
    "    #   plt.ylabel('Revenue', fontsize=20)\n",
    "    #   plt.xlabel('Hour', fontsize=20)\n",
    "    #   plt.title('Revenue Over Time', fontsize=20)\n",
    "    #   plt.show()\n",
    "\n",
    "    plt.figure(figsize=(10, 4))\n",
    "    days = range(len(revenue))\n",
    "    plt.scatter(days, revenue, color='blue', label='Revenue')\n",
    "    plt.plot(days, revenue, color='blue')\n",
    "    plt.ylabel('Revenue', fontsize=20)\n",
    "    plt.xlabel('Day', fontsize=20)\n",
    "    plt.title('Revenue Over Time', fontsize=20)\n",
    "    plt.legend()\n",
    "\n",
    "    # Set x-axis ticks at intervals of 24\n",
    "    xticks = range(0, len(revenue), 24)\n",
    "    plt.xticks(xticks)\n",
    "\n",
    "    # Annotate each point with the revenue value\n",
    "    for day, rev in zip(days, revenue):\n",
    "        plt.text(day, rev, f'{round(rev, 2)}', fontsize=7, ha='left', va='bottom')\n",
    "\n",
    "    plt.show()\n",
    "    total_revenue = 0\n",
    "    for i in range(len(revenue)):\n",
    "        total_revenue += revenue[i]\n",
    "    print('Cash Used: ', cash_used)\n",
    "    return total_revenue\n",
    "BuySellModelPredict(starting_cash=100)"
   ]
  },
  {
   "cell_type": "code",
   "execution_count": null,
   "metadata": {},
   "outputs": [],
   "source": []
  }
 ],
 "metadata": {
  "kernelspec": {
   "display_name": "use_this_env",
   "language": "python",
   "name": "python3"
  },
  "language_info": {
   "codemirror_mode": {
    "name": "ipython",
    "version": 3
   },
   "file_extension": ".py",
   "mimetype": "text/x-python",
   "name": "python",
   "nbconvert_exporter": "python",
   "pygments_lexer": "ipython3",
   "version": "3.11.5"
  }
 },
 "nbformat": 4,
 "nbformat_minor": 2
}
